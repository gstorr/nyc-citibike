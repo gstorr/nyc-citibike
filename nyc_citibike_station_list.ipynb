{
 "cells": [
  {
   "cell_type": "code",
   "execution_count": null,
   "metadata": {},
   "outputs": [],
   "source": [
    "# make a list of unique citibike stations\n",
    "# create a new csv with station_id, station_name, lat, lon, boro\n",
    "\n",
    "from datetime import date, datetime, timedelta\n",
    "import pandas as pd\n",
    "import csv, fnmatch, os"
   ]
  },
  {
   "cell_type": "code",
   "execution_count": null,
   "metadata": {},
   "outputs": [],
   "source": [
    "rootdir = 'C:/Users/geoff/PycharmProjects/citibike/citibike_trip_data/citibike_summary_trip_counts/'"
   ]
  },
  {
   "cell_type": "code",
   "execution_count": null,
   "metadata": {},
   "outputs": [],
   "source": [
    "station_dict = {}"
   ]
  },
  {
   "cell_type": "code",
   "execution_count": null,
   "metadata": {},
   "outputs": [],
   "source": [
    "# compile unique stations in a dictionary\n",
    "\n",
    "for file in os.listdir(rootdir):\n",
    "    if fnmatch.fnmatch(file, '*.csv'):\n",
    "        df = pd.read_csv(rootdir + file,\n",
    "                         header=0,\n",
    "                         names=['Date', 'Station ID', 'Trip Starts', 'Trip Ends', 'Station Name', 'Station Lat', 'Station Lon'])\n",
    "        trip_counter_list = df.values.tolist()\n",
    "\n",
    "        for line in trip_counter_list:\n",
    "            station_id = line[1]\n",
    "            station_name = line[4]\n",
    "            station_lat = line[5]\n",
    "            station_lon = line[6]\n",
    "\n",
    "            if station_id not in station_dict:\n",
    "                station_dict[station_id] = [station_name, station_lat, station_lon]"
   ]
  },
  {
   "cell_type": "code",
   "execution_count": null,
   "metadata": {},
   "outputs": [],
   "source": [
    "station_list = []\n",
    "station_list_formatted = []"
   ]
  },
  {
   "cell_type": "code",
   "execution_count": null,
   "metadata": {},
   "outputs": [],
   "source": [
    "# compile station list \n",
    "for station_id in station_dict.keys():\n",
    "    station_list = [station_id,\n",
    "                    station_dict[station_id][0],\n",
    "                    station_dict[station_id][1],\n",
    "                    station_dict[station_id][2]]\n",
    "\n",
    "    station_list_formatted.append(station_list)\n",
    "\n",
    "# sort the station list by station id \n",
    "station_list_formatted.sort(key=lambda i: i[0])"
   ]
  },
  {
   "cell_type": "code",
   "execution_count": null,
   "metadata": {},
   "outputs": [],
   "source": [
    "# create csv file\n",
    "\n",
    "columns = [\"station_id\", \"station_name\", \"station_lat\", \"station_lon\"]\n",
    "\n",
    "df_st = pd.DataFrame(station_list_formatted, columns=columns)\n",
    "\n",
    "df_st.to_csv(\"C:/Users/geoff/PycharmProjects/citibike/citibike_trip_data/citibike_summary_trip_counts/station_list/citibike_stations.csv\",\n",
    "             quoting=csv.QUOTE_NONE,\n",
    "             index=False)"
   ]
  }
 ],
 "metadata": {
  "kernelspec": {
   "display_name": "Python 3",
   "language": "python",
   "name": "python3"
  },
  "language_info": {
   "codemirror_mode": {
    "name": "ipython",
    "version": 3
   },
   "file_extension": ".py",
   "mimetype": "text/x-python",
   "name": "python",
   "nbconvert_exporter": "python",
   "pygments_lexer": "ipython3",
   "version": "3.8.3"
  }
 },
 "nbformat": 4,
 "nbformat_minor": 4
}
