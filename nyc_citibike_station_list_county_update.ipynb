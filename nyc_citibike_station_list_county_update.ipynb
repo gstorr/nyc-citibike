{
 "cells": [
  {
   "cell_type": "code",
   "execution_count": null,
   "metadata": {},
   "outputs": [],
   "source": [
    "# add borough to the station list file\n",
    "\n",
    "import pandas as pd\n",
    "import csv, fnmatch, os\n",
    "import urllib, json, requests"
   ]
  },
  {
   "cell_type": "code",
   "execution_count": null,
   "metadata": {},
   "outputs": [],
   "source": [
    "station_list_update = []"
   ]
  },
  {
   "cell_type": "code",
   "execution_count": null,
   "metadata": {},
   "outputs": [],
   "source": [
    "# open the station file\n",
    "station_list_file = 'C:/Users/geoff/PycharmProjects/citibike/citibike_trip_data/citibike_summary_trip_counts/station_list/citibike_stations.csv'\n",
    "fh = open(station_list_file)\n",
    "header = next(fh)"
   ]
  },
  {
   "cell_type": "code",
   "execution_count": null,
   "metadata": {},
   "outputs": [],
   "source": [
    "for row in fh:\n",
    "    row = row.rstrip()\n",
    "    row = row.split(',')\n",
    "    st_latitude = row[2]\n",
    "    st_longitude = row[3]\n",
    "\n",
    "    # append the county name from the FCC API\n",
    "    # adapted from: https://gis.stackexchange.com/questions/77048/local-geolocation-to-fips-county-using-latitude-and-longitude\n",
    "    # try/except added to skip IndexError for station coordinates that fall outside the US\n",
    "    with urllib.request.urlopen(\"https://geo.fcc.gov/api/census/area?lat={}&lon={}&format=json\".format(st_latitude, st_longitude)) as url:\n",
    "        try:\n",
    "            data = json.loads(url.read().decode())\n",
    "            row.append(data['results'][0]['county_name'])\n",
    "            station_list_update.append(row)\n",
    "        except IndexError:\n",
    "            continue"
   ]
  },
  {
   "cell_type": "code",
   "execution_count": null,
   "metadata": {},
   "outputs": [],
   "source": [
    "# create an updated station file with county name included\n",
    "columns_update = [\"station_id\", \"station_name\", \"station_lat\", \"station_lon\", \"county\"]\n",
    "df_st_new = pd.DataFrame(station_list_update, columns=columns_update)\n",
    "\n",
    "df_st_new.to_csv(\"C:/Users/geoff/PycharmProjects/citibike/citibike_trip_data/citibike_summary_trip_counts/station_list/citibike_stations_update.csv\",\n",
    "                 quoting=csv.QUOTE_NONE,\n",
    "                 index=False)"
   ]
  }
 ],
 "metadata": {
  "kernelspec": {
   "display_name": "Python 3",
   "language": "python",
   "name": "python3"
  },
  "language_info": {
   "codemirror_mode": {
    "name": "ipython",
    "version": 3
   },
   "file_extension": ".py",
   "mimetype": "text/x-python",
   "name": "python",
   "nbconvert_exporter": "python",
   "pygments_lexer": "ipython3",
   "version": "3.8.3"
  }
 },
 "nbformat": 4,
 "nbformat_minor": 4
}
