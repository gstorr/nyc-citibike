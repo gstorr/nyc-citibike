{
 "cells": [
  {
   "cell_type": "code",
   "execution_count": null,
   "metadata": {},
   "outputs": [],
   "source": [
    "# Citibike daily trip count by station\n",
    "\n",
    "from datetime import date, datetime, timedelta\n",
    "import pandas as pd\n",
    "import csv\n",
    "import os"
   ]
  },
  {
   "cell_type": "code",
   "execution_count": null,
   "metadata": {},
   "outputs": [],
   "source": [
    "rootdir = 'C:/Users/geoff/PycharmProjects/citibike/citibike_trip_data/citibike_all_months/'"
   ]
  },
  {
   "cell_type": "code",
   "execution_count": null,
   "metadata": {},
   "outputs": [],
   "source": [
    "for file in os.listdir(rootdir):\n",
    "    if file.endswith(\".csv\"):\n",
    "        fh = open(rootdir + file)\n",
    "        header = next(fh)\n",
    "\n",
    "        # create a dated dictionary\n",
    "        # with a nested dictionary to record trip starts and ends\n",
    "        # for each station\n",
    "        \n",
    "        trip_dict = {}\n",
    "\n",
    "        for line in fh:\n",
    "            line = line.rstrip()\n",
    "            line = line.split(',')\n",
    "            date = datetime.strptime(line[1], '\"%Y-%m-%d %H:%M:%S.%f\"' ).date()\n",
    "            start_station_id = str(line[4])\n",
    "            end_station_id = str(line[8])\n",
    "\n",
    "            if date not in trip_dict:\n",
    "                trip_dict[date] = {}\n",
    "            if start_station_id not in trip_dict[date]:\n",
    "                trip_dict[date][start_station_id] = [1, 0]\n",
    "            else:\n",
    "                trip_dict[date][start_station_id][0] += 1\n",
    "            if end_station_id not in trip_dict[date]:\n",
    "                trip_dict[date][end_station_id] = [0, 1]\n",
    "            else:\n",
    "                trip_dict[date][end_station_id][1] += 1\n",
    "\n",
    "        # create formatted list of daily trip counts for each station\n",
    "        trip_list_formatted = []\n",
    "\n",
    "        for trip_date in trip_dict.keys():\n",
    "            for station in trip_dict[trip_date].keys():\n",
    "                trip_list = [trip_date, station, trip_dict[trip_date][station][0], trip_dict[trip_date][station][1]]\n",
    "                trip_list_formatted.append(trip_list)\n",
    "\n",
    "        # sort the file\n",
    "        trip_list_formatted.sort(key=lambda i: (i[0], i[1]))\n",
    "\n",
    "        # create csv file for each month\n",
    "        file_ext = file[:6]\n",
    "        columns = [\"date\", \"station_name\", \"trip_starts\", \"trip_ends\"]\n",
    "        df = pd.DataFrame(trip_list_formatted, columns=columns)\n",
    "        df.to_csv(\"C:/Users/geoff/PycharmProjects/citibike/citibike_trip_data/citibike_summary_trip_counts/citibike_station_trip_counter_{}.csv\".format(file_ext),\n",
    "                  quoting=csv.QUOTE_NONE,\n",
    "                  index=False)"
   ]
  }
 ],
 "metadata": {
  "kernelspec": {
   "display_name": "Python 3",
   "language": "python",
   "name": "python3"
  },
  "language_info": {
   "codemirror_mode": {
    "name": "ipython",
    "version": 3
   },
   "file_extension": ".py",
   "mimetype": "text/x-python",
   "name": "python",
   "nbconvert_exporter": "python",
   "pygments_lexer": "ipython3",
   "version": "3.8.3"
  }
 },
 "nbformat": 4,
 "nbformat_minor": 4
}
